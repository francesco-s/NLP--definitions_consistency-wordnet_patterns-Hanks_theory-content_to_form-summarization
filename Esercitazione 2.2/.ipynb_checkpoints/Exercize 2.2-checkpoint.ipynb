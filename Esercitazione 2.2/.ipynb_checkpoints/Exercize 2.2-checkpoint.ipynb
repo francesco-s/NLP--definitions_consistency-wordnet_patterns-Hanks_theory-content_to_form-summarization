{
 "cells": [
  {
   "cell_type": "code",
   "execution_count": 1,
   "id": "d8e99c4b-eaa5-4737-b881-622ac46f3cc2",
   "metadata": {},
   "outputs": [],
   "source": [
    "import nltk\n",
    "from nltk.tokenize import word_tokenize\n",
    "from nltk.stem.wordnet import WordNetLemmatizer\n",
    "from nltk.corpus import wordnet as wn\n",
    "import re"
   ]
  },
  {
   "cell_type": "code",
   "execution_count": 2,
   "id": "57b2c858-9f88-4c4b-a4e6-e25a75eefe3f",
   "metadata": {},
   "outputs": [],
   "source": [
    "def pre_processing(sentence):\n",
    "    return remove_stopwords(tokenize_sentence(remove_punctuation(sentence)))\n",
    "\n",
    "# Remove punctuation from a list of words\n",
    "def remove_punctuation(sentence):\n",
    "    return re.sub(r'[^\\w\\s]', '', sentence)\n",
    "\n",
    "# Remove stopwords from a list of words\n",
    "def remove_stopwords(words_list):\n",
    "    stopwords = open(\"stop_words_FULL.txt\", \"r\")\n",
    "    stopwords_list = []\n",
    "    for word in stopwords:\n",
    "        stopwords_list.append(word.replace('\\n', ''))\n",
    "    stopwords.close()\n",
    "    return [value.lower() for value in words_list if value.lower() not in stopwords_list]\n",
    "\n",
    "# Tokenize the input sentence and also lemmatize its words\n",
    "def tokenize_sentence(sentence):\n",
    "    words_list = []\n",
    "    lmtzr = WordNetLemmatizer()\n",
    "    for tag in nltk.pos_tag(word_tokenize(sentence)):\n",
    "        if (tag[1][:2] == \"NN\"):\n",
    "            words_list.append(lmtzr.lemmatize(tag[0], pos=wn.NOUN))\n",
    "        elif (tag[1][:2] == \"VB\"):\n",
    "            words_list.append(lmtzr.lemmatize(tag[0], pos=wn.VERB))\n",
    "        elif (tag[1][:2] == \"RB\"):\n",
    "            words_list.append(lmtzr.lemmatize(tag[0], pos=wn.ADV))\n",
    "        elif (tag[1][:2] == \"JJ\"):\n",
    "            words_list.append(lmtzr.lemmatize(tag[0], pos=wn.ADJ))\n",
    "    return words_list"
   ]
  },
  {
   "cell_type": "code",
   "execution_count": 3,
   "id": "f8c845db-707e-45c3-bb58-928d3078a26e",
   "metadata": {},
   "outputs": [
    {
     "name": "stderr",
     "output_type": "stream",
     "text": [
      "C:\\Users\\thewp\\anaconda3\\lib\\site-packages\\gensim\\similarities\\__init__.py:15: UserWarning: The gensim.similarities.levenshtein submodule is disabled, because the optional Levenshtein package <https://pypi.org/project/python-Levenshtein/> is unavailable. Install Levenhstein (e.g. `pip install python-Levenshtein`) to suppress this warning.\n",
      "  warnings.warn(msg)\n"
     ]
    },
    {
     "ename": "ModuleNotFoundError",
     "evalue": "No module named 'utils'",
     "output_type": "error",
     "traceback": [
      "\u001b[1;31m---------------------------------------------------------------------------\u001b[0m",
      "\u001b[1;31mModuleNotFoundError\u001b[0m                       Traceback (most recent call last)",
      "\u001b[1;32m<ipython-input-3-97769183c9fa>\u001b[0m in \u001b[0;36m<module>\u001b[1;34m\u001b[0m\n\u001b[0;32m      2\u001b[0m \u001b[1;31m#di parole pre-processate\u001b[0m\u001b[1;33m\u001b[0m\u001b[1;33m\u001b[0m\u001b[1;33m\u001b[0m\u001b[0m\n\u001b[0;32m      3\u001b[0m \u001b[1;32mfrom\u001b[0m \u001b[0mgensim\u001b[0m \u001b[1;32mimport\u001b[0m \u001b[0mcorpora\u001b[0m\u001b[1;33m,\u001b[0m\u001b[0mmodels\u001b[0m\u001b[1;33m\u001b[0m\u001b[1;33m\u001b[0m\u001b[0m\n\u001b[1;32m----> 4\u001b[1;33m \u001b[1;32mimport\u001b[0m \u001b[0mutils\u001b[0m\u001b[1;33m\u001b[0m\u001b[1;33m\u001b[0m\u001b[0m\n\u001b[0m\u001b[0;32m      5\u001b[0m \u001b[1;33m\u001b[0m\u001b[0m\n\u001b[0;32m      6\u001b[0m \u001b[0mFILE\u001b[0m \u001b[1;33m=\u001b[0m \u001b[1;34m'italian_cuisine_2.txt'\u001b[0m \u001b[1;31m#il file contiene un insieme di documenti divisi per paragrafi\u001b[0m\u001b[1;33m\u001b[0m\u001b[1;33m\u001b[0m\u001b[0m\n",
      "\u001b[1;31mModuleNotFoundError\u001b[0m: No module named 'utils'"
     ]
    }
   ],
   "source": [
    "#ogni articolo del file verrà rappresentato come una lista\n",
    "#di parole pre-processate\n",
    "from gensim import corpora,models\n",
    "import utils\n",
    "\n",
    "FILE = 'italian_cuisine_2.txt' #il file contiene un insieme di documenti divisi per paragrafi\n",
    "TOPIC_NUMBER = 10\n",
    "WORDS_FOR_TOPIC = 5\n",
    "\n",
    "with open(FILE) as file:\n",
    "    \n",
    "    #lista di liste. Ogn lista rappresenta un documento ed è formata da una sequenza di parole\n",
    "    list_document_words = [] \n",
    "    \n",
    "    for line in file:\n",
    "        if \"<doc\" in line: #nuovo documento\n",
    "            document_words = [] #lista di parole che faranno parte del documento\n",
    "            while True:\n",
    "                next_line = file.readline() #read next line\n",
    "                \n",
    "                #rimozione tag paragrafi\n",
    "                new_next_line = next_line.replace(\"<p> \",\"\").replace(\"</p>\\n\",\"\").replace(\"/p\", \"\")\n",
    "                \n",
    "                if \"</doc>\" in next_line: #documento terminato\n",
    "                    break\n",
    "                #rimuovo punteggiatura, tokenizzo e rimuovo stopwords\n",
    "                sentence_words = utils.pre_processing(new_next_line)\n",
    "                document_words.extend(sentence_words)\n",
    "            list_document_words.append(document_words)\n",
    "    file.close()\n",
    "         \n",
    "    print(\"Numero di documenti: \", len(list_document_words))\n",
    "    \n",
    "    #crea un dizionario che incapsula il mapping tra le parole normalizzate\n",
    "    #e i loro indentificatori (interi)\n",
    "    dictionary_LDA = corpora.Dictionary(list_document_words)\n",
    "    \n",
    "    #elimina tutti i termini che NON appaiono in almeno 3 documenti\n",
    "    #elimina tutti i termini che appaiono in oltre il 50% dei documenti (vedere doc. ufficiale di filter_extremes)\n",
    "    dictionary_LDA.filter_extremes(no_below=3)\n",
    "    \n",
    "    #converte ogni documento (sottoforma di lista di parole)\n",
    "    #in un bag of words. Corpus sarà una lista di bag of words ognuna\n",
    "    #delle quali rappresenta un documento\n",
    "    corpus = [dictionary_LDA.doc2bow(document_words) for document_words in list_document_words]\n",
    "        \n",
    "    lda_model = models.LdaModel(corpus, num_topics=TOPIC_NUMBER, \\\n",
    "                                  id2word=dictionary_LDA, \\\n",
    "                                  passes=4, alpha=[0.01]*TOPIC_NUMBER, \\\n",
    "                                  eta=[0.01]*len(dictionary_LDA.keys()))\n",
    "    \n",
    "    for i,topic in lda_model.show_topics(formatted=True, num_topics=TOPIC_NUMBER, num_words=WORDS_FOR_TOPIC):\n",
    "        print(str(i)+\": \"+ topic)\n",
    "        print()\n",
    "\n",
    "    #distribuzione di probabilità dei topic nel documento 5\n",
    "    print(lda_model[corpus[5]]) # corpus[0] means the first document."
   ]
  }
 ],
 "metadata": {
  "kernelspec": {
   "display_name": "Python 3",
   "language": "python",
   "name": "python3"
  },
  "language_info": {
   "codemirror_mode": {
    "name": "ipython",
    "version": 3
   },
   "file_extension": ".py",
   "mimetype": "text/x-python",
   "name": "python",
   "nbconvert_exporter": "python",
   "pygments_lexer": "ipython3",
   "version": "3.8.10"
  }
 },
 "nbformat": 4,
 "nbformat_minor": 5
}
