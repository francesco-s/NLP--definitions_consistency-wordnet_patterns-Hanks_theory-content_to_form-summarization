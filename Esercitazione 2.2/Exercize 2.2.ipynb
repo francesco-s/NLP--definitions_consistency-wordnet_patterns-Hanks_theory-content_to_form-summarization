{
 "cells": [
  {
   "cell_type": "code",
   "execution_count": 1,
   "id": "2e3db477-5aaa-4665-837e-b7e500236e4f",
   "metadata": {},
   "outputs": [],
   "source": [
    "import re\n",
    "import nltk\n",
    "import string\n",
    "from nltk.corpus import wordnet as wn\n",
    "from nltk.tokenize import word_tokenize\n",
    "from nltk.stem.wordnet import WordNetLemmatizer"
   ]
  },
  {
   "cell_type": "code",
   "execution_count": 2,
   "id": "30aa620f-72b9-42ab-8ed7-30364228ad4c",
   "metadata": {},
   "outputs": [],
   "source": [
    "def pre_processing(sentence):\n",
    "    return remove_stopwords(tokenize_sentence(remove_punctuation(sentence)))\n",
    "\n",
    "# Remove punctuation from a list of words\n",
    "def remove_punctuation(sentence):\n",
    "    return re.sub(r'[^\\w\\s]', '', sentence)\n",
    "\n",
    "# Remove stopwords from a list of words\n",
    "def remove_stopwords(words_list):\n",
    "    stopwords = open(\"stop_words_FULL.txt\", \"r\")\n",
    "    stopwords_list = []\n",
    "    for word in stopwords:\n",
    "        stopwords_list.append(word.replace('\\n', ''))\n",
    "    stopwords.close()\n",
    "    return [value.lower() for value in words_list if value.lower() not in stopwords_list]\n",
    "\n",
    "# Tokenize the input sentence and also lemmatize its words\n",
    "def tokenize_sentence(sentence):\n",
    "    words_list = []\n",
    "    lmtzr = WordNetLemmatizer()\n",
    "    for tag in nltk.pos_tag(word_tokenize(sentence)):\n",
    "        if (tag[1][:2] == \"NN\"):\n",
    "            words_list.append(lmtzr.lemmatize(tag[0], pos=wn.NOUN))\n",
    "        elif (tag[1][:2] == \"VB\"):\n",
    "            words_list.append(lmtzr.lemmatize(tag[0], pos=wn.VERB))\n",
    "        elif (tag[1][:2] == \"RB\"):\n",
    "            words_list.append(lmtzr.lemmatize(tag[0], pos=wn.ADV))\n",
    "        elif (tag[1][:2] == \"JJ\"):\n",
    "            words_list.append(lmtzr.lemmatize(tag[0], pos=wn.ADJ))\n",
    "    return words_list\n",
    "\n",
    "def get_signature(sense):\n",
    "    signature = []\n",
    "    for word in tokenize_sentence(sense.definition()):  # definition tokenization\n",
    "        signature.append(word)\n",
    "    for example in sense.examples():  # example tokenization\n",
    "        for word in tokenize_sentence(example):\n",
    "            # Merge definition and examples\n",
    "            signature.append(word)\n",
    "    return signature"
   ]
  },
  {
   "cell_type": "code",
   "execution_count": 3,
   "id": "a4dd5eee-86f6-47ac-9d7b-b977fafa2cf9",
   "metadata": {},
   "outputs": [
    {
     "name": "stdout",
     "output_type": "stream",
     "text": [
      "Documents number:  310\n",
      "\n",
      "0: 0.022*\"pan\" + 0.018*\"cake\" + 0.013*\"wok\" + 0.008*\"potato\" + 0.007*\"chef\"\n",
      "\n",
      "1: 0.026*\"italian\" + 0.016*\"blog\" + 0.015*\"wedding\" + 0.014*\"italy\" + 0.010*\"tradition\"\n",
      "\n",
      "2: 0.044*\"pork\" + 0.034*\"chop\" + 0.011*\"subscribe\" + 0.010*\"email\" + 0.010*\"pan\"\n",
      "\n",
      "3: 0.031*\"knife\" + 0.019*\"chef\" + 0.012*\"blade\" + 0.011*\"kitchen\" + 0.009*\"steel\"\n",
      "\n",
      "4: 0.013*\"knife\" + 0.012*\"chop\" + 0.012*\"lamb\" + 0.011*\"meat\" + 0.006*\"italian\"\n",
      "\n",
      "5: 0.015*\"bread\" + 0.012*\"italian\" + 0.010*\"cake\" + 0.010*\"episode\" + 0.009*\"easter\"\n",
      "\n",
      "6: 0.023*\"italian\" + 0.010*\"dish\" + 0.009*\"chop\" + 0.008*\"pasta\" + 0.008*\"bread\"\n",
      "\n",
      "7: 0.033*\"chop\" + 0.030*\"pork\" + 0.016*\"chicken\" + 0.012*\"sauce\" + 0.011*\"steak\"\n",
      "\n",
      "8: 0.013*\"cuisine\" + 0.013*\"dish\" + 0.012*\"chef\" + 0.011*\"chop\" + 0.009*\"sausage\"\n",
      "\n",
      "9: 0.026*\"sauce\" + 0.015*\"onion\" + 0.015*\"pork\" + 0.014*\"tomato\" + 0.011*\"italian\"\n",
      "\n",
      "probability distribution of topics in the document 5\n",
      "[(4, 0.99908227)]\n"
     ]
    }
   ],
   "source": [
    "# Topic modelling using gensim\n",
    "from gensim import corpora, models\n",
    "\n",
    "FILE = 'italian_cuisine_2.txt'  #file contains a set of documents divided by paragraphs\n",
    "TOPIC_NUMBER = 10\n",
    "WORDS_FOR_TOPIC = 5\n",
    "\n",
    "with open(FILE, encoding='utf-8') as file:\n",
    "    # for each doc create list of pre-processed words in that doc (list of lists)\n",
    "    list_document_words = []\n",
    "\n",
    "    for line in file:\n",
    "        if \"<doc\" in line:  # tag for new doc\n",
    "            document_words = []  # list of words that will be part of the document\n",
    "            while True:\n",
    "                next_line = file.readline()  # read next line\n",
    "\n",
    "                #remove unuseful tags\n",
    "                new_next_line = next_line.replace(\"<p> \", \"\").replace(\"</p>\\n\", \"\").replace(\"/p\", \"\")\n",
    "\n",
    "                if \"</doc>\" in next_line:\n",
    "                    break\n",
    "                #pre-processing steps\n",
    "                sentence_words = pre_processing(new_next_line)\n",
    "                document_words.extend(sentence_words)\n",
    "            list_document_words.append(document_words)\n",
    "    file.close()\n",
    "\n",
    "    print(\"Documents number: \", len(list_document_words))\n",
    "    print()\n",
    "\n",
    "    # Create a dict with integer keys for all words\n",
    "    dictionary_LDA = corpora.Dictionary(list_document_words)\n",
    "\n",
    "    # delete all terms that do NOT appear in at least 3 documents.\n",
    "    #delete all terms that appear in more than 50% of documents (see filter_extremes official doc).\n",
    "    dictionary_LDA.filter_extremes(no_below=3)\n",
    "\n",
    "    # Converts each document into a list of BoW (list of (id_term, term_frequency) for each term in doc)\n",
    "    corpus = [dictionary_LDA.doc2bow(document_words) for document_words in list_document_words]\n",
    "    \n",
    "\n",
    "    lda_model = models.LdaModel(corpus, num_topics=TOPIC_NUMBER, \\\n",
    "                                id2word=dictionary_LDA, \\\n",
    "                                passes=4, alpha=[0.01] * TOPIC_NUMBER, \\\n",
    "                                eta=[0.01] * len(dictionary_LDA.keys()))\n",
    "\n",
    "    for i, topic in lda_model.show_topics(formatted=True, num_topics=TOPIC_NUMBER, num_words=WORDS_FOR_TOPIC):\n",
    "        print(str(i) + \": \" + topic)\n",
    "        print()\n",
    "        \n",
    "    print(\"probability distribution of topics in the document 5\")\n",
    "    print(lda_model[corpus[5]])  # corpus[0] means the first document.5"
   ]
  },
  {
   "cell_type": "markdown",
   "id": "622d6f06-18a8-45b6-aead-154675f13893",
   "metadata": {},
   "source": [
    "[(0, 1), (1, 2), (2, 2), (3, 1), (4, 1), (5, 2), (6, 1), (7, 1), (8, 1), (9, 4), (10, 1), (11, 3), (12, 1), (13, 1), (14, 1), (15, 1), (16, 1), (17, 1), (18, 1), (19, 2), (20, 1), (21, 4), (22, 1), (23, 1), (24, 1), (25, 1), (26, 1), (27, 1), (28, 1), (29, 1), (30, 2), (31, 2), (32, 1), (33, 1), (34, 1), (35, 1), (36, 1), (37, 1), (38, 1), (39, 2), (40, 1), (41, 2), (42, 3), (43, 1), (44, 1), (45, 1), (46, 1), (47, 1), (48, 5), (49, 3), (50, 1), (51, 1), (52, 2), (53, 1), (54, 1), (55, 2), (56, 1), (57, 1), (58, 1), (59, 1), (60, 1), (61, 3), (62, 2), (63, 2), (64, 1), (65, 1), (66, 1), (67, 1), (68, 1), (69, 1), (70, 1), (71, 1), (72, 1), (73, 1), (74, 1), (75, 1), (76, 1), (77, 1), (78, 2), (79, 1), (80, 10), (81, 1)]"
   ]
  },
  {
   "cell_type": "markdown",
   "id": "117c1e61-821f-4e30-99b6-e553b794980d",
   "metadata": {},
   "source": [
    "[(0, 1), (1, 2), (2, 2), (3, 1), (4, 1), (5, 2), (6, 1), (7, 1), (8, 1), (9, 4), (10, 1), (11, 3), (12, 1), (13, 1), (14, 1), (15, 1), (16, 1), (17, 1), (18, 1), (19, 2), (20, 1), (21, 4), (22, 1), (23, 1), (24, 1), (25, 1), (26, 1), (27, 1), (28, 1), (29, 1), (30, 2), (31, 2), (32, 1), (33, 1), (34, 1), (35, 1), (36, 1), (37, 1), (38, 1), (39, 2), (40, 1), (41, 2), (42, 3), (43, 1), (44, 1), (45, 1), (46, 1), (47, 1), (48, 5), (49, 3), (50, 1), (51, 1), (52, 2), (53, 1), (54, 1), (55, 2), (56, 1), (57, 1), (58, 1), (59, 1), (60, 1), (61, 3), (62, 2), (63, 2), (64, 1), (65, 1), (66, 1), (67, 1), (68, 1), (69, 1), (70, 1), (71, 1), (72, 1), (73, 1), (74, 1), (75, 1), (76, 1), (77, 1), (78, 2), (79, 1), (80, 10), (81, 1)]"
   ]
  },
  {
   "cell_type": "markdown",
   "id": "71a7a154-074a-4466-b5bc-739e7d37fc3b",
   "metadata": {},
   "source": [
    "{'Topic_0': ['cake', 'chef', 'pan', 'winner', 'italian', 'episode', 'oven', 'chopped', 'dish', 'chop'], 'Topic_1': ['subscribe', 'email', 'newsletter', 'feature', 'sign', 'unsubscribe', 'receive', 'hair', 'week', 'youve'], 'Topic_2': ['italian', 'cuisine', 'dish', 'italy', 'tradition', 'include', 'wedding', 'popular', 'region', 'day'], 'Topic_3': ['pan', 'sausage', 'chef', 'meat', 'italian', 'cooking', 'heat', 'steak', 'copper', 'grill'], 'Topic_4': ['chef', 'potato', 'sushi', 'italian', 'dish', 'french', 'style', 'cuisine', 'large', 'wine'], 'Topic_5': ['pork', 'chop', 'bread', 'christmas', 'italian', 'roast', 'flavor', 'meat', 'slice', 'salad'], 'Topic_6': ['chop', 'pork', 'pan', 'skillet', 'heat', 'side', 'oil', 'salt', 'chops', 'pepper'], 'Topic_7': ['knife', 'blog', 'blade', 'wok', 'chef', 'chefs', 'italian', 'steel', 'handle', 'kitchen'], 'Topic_8': ['italian', 'sauce', 'chop', 'pork', 'chicken', 'tomato', 'pasta', 'oil', 'meat', 'fresh'], 'Topic_9': ['roll', 'sushi', 'chop', 'meat', 'rice', 'steak', 'dish', 'pork', 'love', 'suey']}"
   ]
  }
 ],
 "metadata": {
  "interpreter": {
   "hash": "687777cbfed9bcee7b08ad56f15c17d8908988aca6cd0ae5484f3a9e4851bb70"
  },
  "kernelspec": {
   "display_name": "Python 3.8.10 64-bit ('base': conda)",
   "name": "python3"
  },
  "language_info": {
   "codemirror_mode": {
    "name": "ipython",
    "version": 3
   },
   "file_extension": ".py",
   "mimetype": "text/x-python",
   "name": "python",
   "nbconvert_exporter": "python",
   "pygments_lexer": "ipython3",
   "version": "3.8.10"
  }
 },
 "nbformat": 4,
 "nbformat_minor": 5
}
