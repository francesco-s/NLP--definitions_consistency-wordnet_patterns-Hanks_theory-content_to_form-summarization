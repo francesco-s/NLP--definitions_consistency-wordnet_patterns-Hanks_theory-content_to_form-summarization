{
 "cells": [
  {
   "cell_type": "code",
   "execution_count": 1,
   "id": "d8e99c4b-eaa5-4737-b881-622ac46f3cc2",
   "metadata": {},
   "outputs": [],
   "source": [
    "import nltk\n",
    "import re\n",
    "from nltk.tokenize import word_tokenize\n",
    "from nltk.stem.wordnet import WordNetLemmatizer\n",
    "from nltk.corpus import wordnet as wn"
   ]
  },
  {
   "cell_type": "code",
   "execution_count": 2,
   "id": "57b2c858-9f88-4c4b-a4e6-e25a75eefe3f",
   "metadata": {},
   "outputs": [],
   "source": [
    "def pre_processing(sentence):\n",
    "    return remove_stopwords(tokenize_sentence(remove_punctuation(sentence)))\n",
    "\n",
    "# Remove punctuation from a list of words\n",
    "def remove_punctuation(sentence):\n",
    "    return re.sub(r'[^\\w\\s]', '', sentence)\n",
    "\n",
    "# Remove stopwords from a list of words\n",
    "def remove_stopwords(words_list):\n",
    "    stopwords = open(\"stop_words_FULL.txt\", \"r\")\n",
    "    stopwords_list = []\n",
    "    for word in stopwords:\n",
    "        stopwords_list.append(word.replace('\\n', ''))\n",
    "    stopwords.close()\n",
    "    return [value.lower() for value in words_list if value.lower() not in stopwords_list]\n",
    "\n",
    "# Tokenize the input sentence and also lemmatize its words\n",
    "def tokenize_sentence(sentence):\n",
    "    words_list = []\n",
    "    lmtzr = WordNetLemmatizer()\n",
    "    for tag in nltk.pos_tag(word_tokenize(sentence)):\n",
    "        if (tag[1][:2] == \"NN\"):\n",
    "            words_list.append(lmtzr.lemmatize(tag[0], pos=wn.NOUN))\n",
    "        elif (tag[1][:2] == \"VB\"):\n",
    "            words_list.append(lmtzr.lemmatize(tag[0], pos=wn.VERB))\n",
    "        elif (tag[1][:2] == \"RB\"):\n",
    "            words_list.append(lmtzr.lemmatize(tag[0], pos=wn.ADV))\n",
    "        elif (tag[1][:2] == \"JJ\"):\n",
    "            words_list.append(lmtzr.lemmatize(tag[0], pos=wn.ADJ))\n",
    "    return words_list"
   ]
  },
  {
   "cell_type": "code",
   "execution_count": null,
   "id": "fc9d8d17-4436-4ad8-99b4-19ed25063c58",
   "metadata": {},
   "outputs": [],
   "source": []
  },
  {
   "cell_type": "code",
   "execution_count": null,
   "id": "f8c845db-707e-45c3-bb58-928d3078a26e",
   "metadata": {},
   "outputs": [
    {
     "name": "stdout",
     "output_type": "stream",
     "text": [
      "310  documents\n"
     ]
    }
   ],
   "source": [
    "# Topic modelling using gensim\n",
    "from gensim import corpora, models\n",
    "\n",
    "FILE = 'italian_cuisine_2.txt'  # il file contiene un insieme di documenti divisi per paragrafi\n",
    "TOPIC_NUMBER = 10\n",
    "WORDS_FOR_TOPIC = 5\n",
    "\n",
    "with open(FILE, encoding='utf-8') as file:\n",
    "    # for each doc create list of pre-processed words in that doc (list of lists)\n",
    "    list_document_words = []\n",
    "\n",
    "    for line in file:\n",
    "        if \"<doc\" in line:  # tag for new doc\n",
    "            document_words = [] \n",
    "            while True:\n",
    "                next_line = file.readline()\n",
    "\n",
    "                # remove unuseful tags\n",
    "                new_next_line = next_line.replace(\"<p> \", \"\").replace(\"</p>\\n\", \"\").replace(\"/p\", \"\")\n",
    "\n",
    "                if \"</doc>\" in next_line:\n",
    "                    break\n",
    "                # pre-processing steps\n",
    "                sentence_words = pre_processing(new_next_line)\n",
    "                document_words.extend(sentence_words)\n",
    "            list_document_words.append(document_words)\n",
    "    file.close()\n",
    "\n",
    "    print(len(list_document_words), \" documents\")\n",
    "\n",
    "    # Create a dict with integer keys for all words\n",
    "    dictionary_LDA = corpora.Dictionary(list_document_words)\n",
    "\n",
    "    \n",
    "    # elimina tutti i termini che NON appaiono in almeno 3 documenti\n",
    "    # elimina tutti i termini che NON appaiono in oltre il 50% dei documenti (vedere doc. ufficiale di filter_extremes)\n",
    "    dictionary_LDA.filter_extremes(no_below=3)\n",
    "\n",
    "    # Converts each document into a list of BoW (list of (id_term, term_frequency) for each term in doc)\n",
    "    corpus = [dictionary_LDA.doc2bow(document_words) for document_words in list_document_words]\n",
    "\n",
    "    lda_model = models.LdaModel(corpus, num_topics=TOPIC_NUMBER, \\\n",
    "                                id2word=dictionary_LDA, \\\n",
    "                                passes=4, alpha=[0.01] * TOPIC_NUMBER, \\\n",
    "                                eta=[0.01] * len(dictionary_LDA.keys()))\n",
    "\n",
    "    for i, topic in lda_model.show_topics(formatted=True, num_topics=TOPIC_NUMBER, num_words=WORDS_FOR_TOPIC):\n",
    "        print(str(i) + \": \" + topic)\n",
    "        print()\n",
    "\n",
    "    # distribuzione di probabilità dei topic nel documento 5\n",
    "    print(lda_model[corpus[5]])  # corpus[0] means the first document."
   ]
  },
  {
   "cell_type": "code",
   "execution_count": null,
   "id": "615d30f6-4fc5-4c2f-83de-af6abbf820f9",
   "metadata": {},
   "outputs": [],
   "source": []
  }
 ],
 "metadata": {
  "kernelspec": {
   "display_name": "Python 3 (ipykernel)",
   "language": "python",
   "name": "python3"
  },
  "language_info": {
   "codemirror_mode": {
    "name": "ipython",
    "version": 3
   },
   "file_extension": ".py",
   "mimetype": "text/x-python",
   "name": "python",
   "nbconvert_exporter": "python",
   "pygments_lexer": "ipython3",
   "version": "3.7.7"
  }
 },
 "nbformat": 4,
 "nbformat_minor": 5
}
