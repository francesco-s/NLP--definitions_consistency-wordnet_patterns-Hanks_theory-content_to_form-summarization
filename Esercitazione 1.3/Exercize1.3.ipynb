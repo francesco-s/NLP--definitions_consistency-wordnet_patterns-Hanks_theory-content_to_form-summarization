{
 "cells": [
  {
   "cell_type": "code",
   "execution_count": 1,
   "id": "4fc6c91c-de97-4491-98a4-25202da67cc6",
   "metadata": {},
   "outputs": [],
   "source": [
    "from nltk.corpus import wordnet as wn"
   ]
  },
  {
   "cell_type": "code",
   "execution_count": 2,
   "id": "aef5d635-95ad-4fd8-84e7-29a40503a93e",
   "metadata": {},
   "outputs": [],
   "source": [
    "def pre_processing(sentence):\n",
    "    return remove_stopwords(remove_punctuation(tokenize(sentence)))"
   ]
  },
  {
   "cell_type": "code",
   "execution_count": 3,
   "id": "a20f04b2-3273-49ef-a190-04c7b249c994",
   "metadata": {},
   "outputs": [],
   "source": [
    "def remove_stopwords(words_list):\n",
    "    stopwords_list = get_stopwords()\n",
    "    new_words_list = []\n",
    "    for word in words_list:\n",
    "        word_lower = word.lower()\n",
    "        if word_lower not in stopwords_list:\n",
    "            new_words_list.append(word_lower)\n",
    "    return new_words_list"
   ]
  },
  {
   "cell_type": "code",
   "execution_count": 4,
   "id": "38081c66-6579-4229-8ac6-728ae2e59933",
   "metadata": {},
   "outputs": [],
   "source": [
    "import re\n",
    "\n",
    "def remove_punctuation(sentence):\n",
    "    return re.sub(r'[^\\w\\s]', '', sentence)\n"
   ]
  },
  {
   "cell_type": "code",
   "execution_count": 5,
   "id": "7fdd85c8-d997-466a-94c5-d1cb641669fb",
   "metadata": {},
   "outputs": [],
   "source": [
    "def all_hypernym_paths(word):\n",
    "    \n",
    "    def_lens = []\n",
    "    \n",
    "    for syn in wn.synsets(word):\n",
    "\n",
    "        single_path = []\n",
    "\n",
    "        hyp_path = syn.hypernym_paths()\n",
    "\n",
    "        for i in range (0, len(hyp_path[0])):\n",
    "            single_path.append(len((hyp_path[0][i].definition()).split()))\n",
    "\n",
    "        def_lens.append(single_path)\n",
    "        \n",
    "    return def_lens"
   ]
  },
  {
   "cell_type": "code",
   "execution_count": 6,
   "id": "cbb7ef8b-82e9-4774-b7b4-83ffb7bf5067",
   "metadata": {},
   "outputs": [
    {
     "data": {
      "text/plain": [
       "[[17, 11, 9, 7, 18, 9, 15]]"
      ]
     },
     "execution_count": 6,
     "metadata": {},
     "output_type": "execute_result"
    }
   ],
   "source": [
    "all_hypernym_paths(\"courage\")"
   ]
  },
  {
   "cell_type": "code",
   "execution_count": 7,
   "id": "dc570cd4-3026-4c1e-b8c1-116cbe901e28",
   "metadata": {},
   "outputs": [
    {
     "data": {
      "text/plain": [
       "'!\"#$%&\\'()*+,-./:;<=>?@[\\\\]^_`{|}~'"
      ]
     },
     "execution_count": 7,
     "metadata": {},
     "output_type": "execute_result"
    }
   ],
   "source": [
    "import string\n",
    "string.punctuation"
   ]
  },
  {
   "cell_type": "code",
   "execution_count": null,
   "id": "04acc2bd-a698-43e0-a59b-e7313aa7026f",
   "metadata": {},
   "outputs": [],
   "source": [
    "#dato in input un synset, la funzione ritorna la lista di iperonimi e iponimi\n"
   ]
  },
  {
   "cell_type": "code",
   "execution_count": null,
   "id": "40c22b19-7850-4706-8889-e48aeff18341",
   "metadata": {},
   "outputs": [],
   "source": []
  }
 ],
 "metadata": {
  "kernelspec": {
   "display_name": "Python 3",
   "language": "python",
   "name": "python3"
  },
  "language_info": {
   "codemirror_mode": {
    "name": "ipython",
    "version": 3
   },
   "file_extension": ".py",
   "mimetype": "text/x-python",
   "name": "python",
   "nbconvert_exporter": "python",
   "pygments_lexer": "ipython3",
   "version": "3.8.10"
  }
 },
 "nbformat": 4,
 "nbformat_minor": 5
}
